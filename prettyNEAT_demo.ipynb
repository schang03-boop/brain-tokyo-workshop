{
 "cells": [
  {
   "cell_type": "code",
   "metadata": {
    "ExecuteTime": {
     "end_time": "2024-08-07T05:44:13.905017Z",
     "start_time": "2024-08-07T05:44:13.731259Z"
    }
   },
   "source": [
    "# To train call 'neat_train.py' with arguments.\n",
    "!python neat_train.py -h"
   ],
   "outputs": [
    {
     "name": "stdout",
     "output_type": "stream",
     "text": [
      "/Users/sidic/PycharmProjects/brain-tokyo-workshop/WANNRelease/prettyNEAT/neat_train.py:62: SyntaxWarning: \"is\" with a literal. Did you mean \"==\"?\r\n",
      "  if (gen % hyp['save_mod']) is 0:\r\n",
      "Traceback (most recent call last):\r\n",
      "  File \"/Users/sidic/PycharmProjects/brain-tokyo-workshop/WANNRelease/prettyNEAT/neat_train.py\", line 12, in <module>\r\n",
      "    from mpi4py import MPI\r\n",
      "ModuleNotFoundError: No module named 'mpi4py'\r\n"
     ]
    }
   ],
   "execution_count": 1
  },
  {
   "cell_type": "code",
   "execution_count": null,
   "metadata": {},
   "outputs": [],
   "source": [
    "# Train using default NEAT parameters on cart-pole swing-up with a small population and few generations\n",
    "!cat p/quickTest.json\n",
    "!python neat_train.py -p p/quickTest.json"
   ]
  },
  {
   "cell_type": "code",
   "execution_count": null,
   "metadata": {},
   "outputs": [],
   "source": [
    "# -- View stats of a completed run\n",
    "# Rows:\n",
    "# 0 - Fitness evaluations used\n",
    "# 1 - Median fitness of population\n",
    "# 2 - Max fitness of population\n",
    "# 3 - Top fitness every achieved\n",
    "# 4 - Median number of nodes of individuals in population\n",
    "# 5 - Median number of connections of individuals in population\n",
    "from matplotlib import pyplot as plt\n",
    "import numpy as np\n",
    "stats = np.loadtxt('demo/swingup/test_stats.out', delimiter=',')\n",
    "fig, ax = plt.subplots()\n",
    "x = stats[:,0]\n",
    "y = stats[:,[1,2,3]]\n",
    "plt.plot(y)\n",
    "plt.legend(['Median Fitness','Max Fitness','Best Fitness'])\n",
    "plt.xlabel('Evaluations')\n",
    "plt.ylabel('Fitness')"
   ]
  },
  {
   "cell_type": "code",
   "execution_count": null,
   "metadata": {},
   "outputs": [],
   "source": [
    "# -- View Topology of Network\n",
    "# Lighter color connections are connected to earlier layers (NOT weight strength)\n",
    "import vis as nv\n",
    "\n",
    "nv.viewInd('demo/swingup/test_best.out','swingup')"
   ]
  },
  {
   "cell_type": "code",
   "execution_count": null,
   "metadata": {},
   "outputs": [],
   "source": [
    "# -- View Behavior of Network\n",
    "!python neat_test.py -p p/swingup.json -i demo/swingup/test_best.out --view True"
   ]
  },
  {
   "cell_type": "code",
   "execution_count": null,
   "metadata": {},
   "outputs": [],
   "source": [
    "# -- Compare Replicates\n",
    "# Run several experiments \n",
    "#  for i in {0..10}; do python neat_train.py -p p/swingup.json -n 96 -o tanh_$i; done\n",
    "#  for i in {0..10}; do python neat_train.py -p p/swing_allAct.json -n 96 -o allAct_$i; done\n",
    "#\n",
    "# View results as median and quartiles\n",
    "#\n",
    "import vis as nv\n",
    "experiment_1 = 'demo/swingup/tanh'\n",
    "experiment_2 = 'demo/swingup/allAct'\n",
    "_,_,bestRun = nv.viewReps([experiment_1,experiment_2],label=['Tanh Only','All Activation Functions'],\\\n",
    "                           title='Best Fitness Found with Uniform or Diverse Activations',getBest=True)"
   ]
  }
 ],
 "metadata": {
  "kernelspec": {
   "display_name": "Python 3",
   "language": "python",
   "name": "python3"
  },
  "language_info": {
   "codemirror_mode": {
    "name": "ipython",
    "version": 3
   },
   "file_extension": ".py",
   "mimetype": "text/x-python",
   "name": "python",
   "nbconvert_exporter": "python",
   "pygments_lexer": "ipython3",
   "version": "3.6.5"
  }
 },
 "nbformat": 4,
 "nbformat_minor": 2
}
